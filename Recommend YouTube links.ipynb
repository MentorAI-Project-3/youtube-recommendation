{
 "cells": [
  {
   "cell_type": "code",
   "execution_count": 1,
   "id": "a4b17f59",
   "metadata": {},
   "outputs": [],
   "source": [
    "# Libreries\n",
    "import os\n",
    "from langchain.prompts import PromptTemplate\n",
    "from langchain.chains import LLMChain\n",
    "from googleapiclient.discovery import build\n",
    "from langchain_groq import ChatGroq\n"
   ]
  },
  {
   "cell_type": "code",
   "execution_count": 2,
   "id": "e0fd1fcc",
   "metadata": {},
   "outputs": [],
   "source": [
    "# APIS\n",
    "\n"
   ]
  },
  {
   "cell_type": "code",
   "execution_count": 3,
   "id": "93fb8c1c",
   "metadata": {},
   "outputs": [],
   "source": [
    "from dotenv import load_dotenv\n",
    "\n",
    "load_dotenv()\n",
    "\n",
    "youtude_api = os.getenv(\"YOUTUBE_API_KEY\")\n",
    "groq_api = os.getenv(\"GROQ_API_KEY\")\n",
    "# print(groq_api)"
   ]
  },
  {
   "cell_type": "code",
   "execution_count": 4,
   "id": "caf646bd",
   "metadata": {},
   "outputs": [],
   "source": [
    "def search_youtube_videos(query, max_results=5):\n",
    "    youtube = build(\"youtube\", \"v3\", developerKey=youtude_api)\n",
    "    response = youtube.search().list(\n",
    "        q=query,\n",
    "        part=\"snippet\",\n",
    "        maxResults=max_results,\n",
    "        type=[\"video\", \"playlist\"],\n",
    "    ).execute()\n",
    "\n",
    "    # print(response)\n",
    "\n",
    "    videos = []\n",
    "    for item in response.get(\"items\", []):\n",
    "        if item[\"id\"][\"kind\"] != \"youtube#video\":\n",
    "            title = item[\"snippet\"][\"title\"]\n",
    "            description = item[\"snippet\"][\"description\"]\n",
    "            playlist_id = item[\"id\"][\"playlistId\"]\n",
    "            url = f\"https://www.youtube.com/playlist?list={playlist_id}\"\n",
    "            videos.append({\n",
    "                \"title\": title,\n",
    "                \"description\": description,\n",
    "                \"url\": url\n",
    "            })\n",
    "        else:\n",
    "            title = item[\"snippet\"][\"title\"]\n",
    "            description = item[\"snippet\"][\"description\"]\n",
    "            video_id = item[\"id\"][\"videoId\"]\n",
    "            url = f\"https://www.youtube.com/watch?v={video_id}\"\n",
    "            videos.append({\n",
    "                \"title\": title,\n",
    "                \"description\": description,\n",
    "                \"url\": url\n",
    "            })\n",
    "    return videos"
   ]
  },
  {
   "cell_type": "code",
   "execution_count": 5,
   "id": "834c1ce5",
   "metadata": {},
   "outputs": [
    {
     "name": "stdout",
     "output_type": "stream",
     "text": [
      "\n",
      "videos: [{'title': 'Python Full Course for Beginners [2025]', 'description': 'Master Python from scratch No fluff—just clear, practical coding skills to kickstart your journey! ❤️ Join this channel to get ...', 'url': 'https://www.youtube.com/watch?v=K5KVEU3aaeQ'}, {'title': 'Mastering Python - تعلم بايثون', 'description': 'Mastering Python in Arabic And Learn Info About All Paths.', 'url': 'https://www.youtube.com/playlist?list=PLDoPjvoNmBAyE_gei5d18qkfIe-Z8mocs'}, {'title': 'Python Full Course for free 🐍 (2024)', 'description': \"python #tutorial #beginners Python tutorial for beginners' full course 2024 *Learn Python in 1 HOUR* ...\", 'url': 'https://www.youtube.com/watch?v=ix9cRaBkVe0'}, {'title': 'Python Full Course for Beginners', 'description': 'Learn Python for AI, machine learning, and web development with this beginner-friendly course! Get 6 months of PyCharm ...', 'url': 'https://www.youtube.com/watch?v=_uQrJ0TkZlc'}, {'title': 'Learn Python - Full Course for Beginners [Tutorial]', 'description': \"This course will give you a full introduction into all of the core concepts in python. Follow along with the videos and you'll be a ...\", 'url': 'https://www.youtube.com/watch?v=rfscVS0vtbw'}]\n"
     ]
    }
   ],
   "source": [
    "# SEARCH_QUERY = input(\"Enter what do you want to search: \")\n",
    "SEARCH_QUERY = \"python course\"\n",
    "videos = search_youtube_videos(SEARCH_QUERY)\n",
    "\n",
    "print(f'\\nvideos: {videos}')"
   ]
  },
  {
   "cell_type": "code",
   "execution_count": 6,
   "id": "380c1dd1",
   "metadata": {},
   "outputs": [],
   "source": [
    "def formate_videos_metadata(videos):\n",
    "    metadata = \"\"\n",
    "    \n",
    "    for idx, vid in enumerate(videos, start = 1):\n",
    "        metadata += f\"{idx}. Title: {vid['title']}\\nDescription: {vid['description']}\\n Link: {vid['url']}\\n\\n\"\n",
    "    \n",
    "    return metadata"
   ]
  },
  {
   "cell_type": "code",
   "execution_count": 7,
   "id": "3b8a252a",
   "metadata": {},
   "outputs": [
    {
     "name": "stdout",
     "output_type": "stream",
     "text": [
      "\n",
      "\n",
      "videos_metadata: 1. Title: Python Full Course for Beginners [2025]\n",
      "Description: Master Python from scratch No fluff—just clear, practical coding skills to kickstart your journey! ❤️ Join this channel to get ...\n",
      " Link: https://www.youtube.com/watch?v=K5KVEU3aaeQ\n",
      "\n",
      "2. Title: Mastering Python - تعلم بايثون\n",
      "Description: Mastering Python in Arabic And Learn Info About All Paths.\n",
      " Link: https://www.youtube.com/playlist?list=PLDoPjvoNmBAyE_gei5d18qkfIe-Z8mocs\n",
      "\n",
      "3. Title: Python Full Course for free 🐍 (2024)\n",
      "Description: python #tutorial #beginners Python tutorial for beginners' full course 2024 *Learn Python in 1 HOUR* ...\n",
      " Link: https://www.youtube.com/watch?v=ix9cRaBkVe0\n",
      "\n",
      "4. Title: Python Full Course for Beginners\n",
      "Description: Learn Python for AI, machine learning, and web development with this beginner-friendly course! Get 6 months of PyCharm ...\n",
      " Link: https://www.youtube.com/watch?v=_uQrJ0TkZlc\n",
      "\n",
      "5. Title: Learn Python - Full Course for Beginners [Tutorial]\n",
      "Description: This course will give you a full introduction into all of the core concepts in python. Follow along with the videos and you'll be a ...\n",
      " Link: https://www.youtube.com/watch?v=rfscVS0vtbw\n",
      "\n",
      "\n"
     ]
    }
   ],
   "source": [
    "videos_metadata = formate_videos_metadata(videos)\n",
    "print(f'\\n\\nvideos_metadata: {videos_metadata}')"
   ]
  },
  {
   "cell_type": "code",
   "execution_count": 8,
   "id": "6d6f7f24",
   "metadata": {},
   "outputs": [],
   "source": [
    "def prompt(user_query, video_metadata_list):\n",
    "    prompt_template = PromptTemplate(\n",
    "        input_variables=[\"user_query\", \"video_metadata_list\"],\n",
    "        template= \"\"\"\n",
    "You are an intelligent assistant helping users find the best YouTube videos.\n",
    "\n",
    "User message: \"{user_query}\"\n",
    "\n",
    "From the following videos, recommend the top 3 that are most relevant and useful:\n",
    "\n",
    "{video_metadata_list}\n",
    "\n",
    "Give reasult including the title and link only in the following format:\n",
    "1. Title: video title, Link: video link\n",
    "2. Title: video title, Link: video link\n",
    "3. Title: video title, Link: video link\n",
    "\n",
    "\"\"\"\n",
    ")\n",
    "    # Give reasons for each choice and include the title and link only.\n",
    "    # \"You are a Youtube video search engine. You have to answer the user query based on the metadata of the videos.\\n\\nUser Query: {user_query}\\n\\nMetadata:\\n{metadata}\\n\\nAnswer:\"\n",
    "    return prompt_template"
   ]
  },
  {
   "cell_type": "code",
   "execution_count": 9,
   "id": "afe9520b",
   "metadata": {},
   "outputs": [
    {
     "name": "stdout",
     "output_type": "stream",
     "text": [
      "\n",
      "\n",
      "prompt: input_variables=['user_query', 'video_metadata_list'] template='\\nYou are an intelligent assistant helping users find the best YouTube videos.\\n\\nUser message: \"{user_query}\"\\n\\nFrom the following videos, recommend the top 3 that are most relevant and useful:\\n\\n{video_metadata_list}\\n\\nGive reasult including the title and link only in the following format:\\n1. Title: video title, Link: video link\\n2. Title: video title, Link: video link\\n3. Title: video title, Link: video link\\n\\n'\n"
     ]
    }
   ],
   "source": [
    "prompt = prompt(SEARCH_QUERY, videos_metadata)\n",
    "print(f'\\n\\nprompt: {prompt}')"
   ]
  },
  {
   "cell_type": "code",
   "execution_count": 10,
   "id": "051f309a",
   "metadata": {},
   "outputs": [],
   "source": [
    "MAX_RESULTS = 5\n",
    "\n",
    "def recommend_videos_with_llm(user_query, prompt_template):\n",
    "    videos = search_youtube_videos(user_query, MAX_RESULTS)\n",
    "    formatted_list = formate_videos_metadata(videos)\n",
    "\n",
    "    llm = ChatGroq(\n",
    "        model=\"llama3-8b-8192\",\n",
    "        temperature=0.5\n",
    "        # ,api_key = GROQ_API_KEY\n",
    "    )\n",
    "\n",
    "    model = LLMChain(llm=llm, prompt=prompt_template)\n",
    "    response = model.invoke({\n",
    "        \"user_query\": user_query,\n",
    "        \"video_metadata_list\": formatted_list\n",
    "    })\n",
    "\n",
    "    return response[\"text\"]"
   ]
  },
  {
   "cell_type": "code",
   "execution_count": 11,
   "id": "3d0c7b83",
   "metadata": {},
   "outputs": [
    {
     "name": "stderr",
     "output_type": "stream",
     "text": [
      "C:\\Users\\suhai\\AppData\\Local\\Temp\\ipykernel_14688\\120397845.py:13: LangChainDeprecationWarning: The class `LLMChain` was deprecated in LangChain 0.1.17 and will be removed in 1.0. Use RunnableSequence, e.g., `prompt | llm` instead.\n",
      "  model = LLMChain(llm=llm, prompt=prompt_template)\n"
     ]
    },
    {
     "name": "stdout",
     "output_type": "stream",
     "text": [
      "Based on the user's query \"python course\", I recommend the top 3 most relevant and useful videos:\n",
      "\n",
      "1. Title: Python Full Course for Beginners [2025], Link: https://www.youtube.com/watch?v=K5KVEU3aaeQ\n",
      "2. Title: Learn Python - Full Course for Beginners [Tutorial], Link: https://www.youtube.com/watch?v=rfscVS0vtbw\n",
      "3. Title: Python Full Course for Beginners, Link: https://www.youtube.com/watch?v=_uQrJ0TkZlc\n"
     ]
    }
   ],
   "source": [
    "result = recommend_videos_with_llm(SEARCH_QUERY, prompt)\n",
    "print(result)"
   ]
  }
 ],
 "metadata": {
  "kernelspec": {
   "display_name": "Python 3",
   "language": "python",
   "name": "python3"
  },
  "language_info": {
   "codemirror_mode": {
    "name": "ipython",
    "version": 3
   },
   "file_extension": ".py",
   "mimetype": "text/x-python",
   "name": "python",
   "nbconvert_exporter": "python",
   "pygments_lexer": "ipython3",
   "version": "3.11.5"
  }
 },
 "nbformat": 4,
 "nbformat_minor": 5
}
